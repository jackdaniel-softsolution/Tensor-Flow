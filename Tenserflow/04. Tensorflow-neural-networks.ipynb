{
 "cells": [
  {
   "cell_type": "markdown",
   "metadata": {},
   "source": [
    "## First Neurons"
   ]
  },
  {
   "cell_type": "code",
   "execution_count": 12,
   "metadata": {},
   "outputs": [],
   "source": [
    "import tensorflow as tf\n",
    "import numpy as np"
   ]
  },
  {
   "cell_type": "code",
   "execution_count": 13,
   "metadata": {},
   "outputs": [],
   "source": [
    "#first we create placeholders\n",
    "ph1=tf.placeholder(tf.int32)\n",
    "ph2=tf.placeholder(tf.int32)\n",
    "#we created two empty node"
   ]
  },
  {
   "cell_type": "code",
   "execution_count": 14,
   "metadata": {},
   "outputs": [],
   "source": [
    "#now we create input value to send the placeholder \n",
    "num1=10\n",
    "num2=20"
   ]
  },
  {
   "cell_type": "code",
   "execution_count": 15,
   "metadata": {},
   "outputs": [],
   "source": [
    "#now we set the operations\n",
    "add=ph1+ph2\n",
    "sub=ph1-ph2\n",
    "mul=ph1*ph2"
   ]
  },
  {
   "cell_type": "code",
   "execution_count": 16,
   "metadata": {},
   "outputs": [
    {
     "name": "stdout",
     "output_type": "stream",
     "text": [
      "30\n",
      "\n",
      "\n",
      "-10\n",
      "\n",
      "\n",
      "200\n"
     ]
    }
   ],
   "source": [
    "#use session to excute this network\n",
    "with tf.Session() as sess:\n",
    "    add_result = sess.run(add,feed_dict={ph1:num1,ph2:num2}) #placeholder feed the data from input values\n",
    "    print(add_result)\n",
    "    \n",
    "    print('\\n')\n",
    "    \n",
    "    sub_result = sess.run(sub,feed_dict={ph1:num1,ph2:num2})\n",
    "    print(sub_result)\n",
    "    \n",
    "    print('\\n')\n",
    "    \n",
    "    mult_result = sess.run(mul,feed_dict={ph1:num1,ph2:num2})\n",
    "    print(mult_result)"
   ]
  },
  {
   "cell_type": "markdown",
   "metadata": {},
   "source": [
    "## use random data in neural networks"
   ]
  },
  {
   "cell_type": "code",
   "execution_count": 17,
   "metadata": {},
   "outputs": [
    {
     "data": {
      "text/plain": [
       "array([[70.63119564, 93.94908067, 95.07793237,  9.3843041 ,  6.49712556],\n",
       "       [86.26510771,  2.54239069,  2.52678834, 62.13875055, 17.20749015],\n",
       "       [ 6.66968197, 95.80762802, 24.35390708, 42.1227154 , 56.98482177],\n",
       "       [25.23573644, 13.90463718, 28.56570421, 31.97053753,  1.11304011],\n",
       "       [ 4.34277039, 23.17984518, 90.9533107 , 31.55634697, 48.45711729]])"
      ]
     },
     "execution_count": 17,
     "metadata": {},
     "output_type": "execute_result"
    }
   ],
   "source": [
    "rand1=np.random.uniform(0,100,(5,5))\n",
    "rand1"
   ]
  },
  {
   "cell_type": "code",
   "execution_count": 18,
   "metadata": {},
   "outputs": [
    {
     "data": {
      "text/plain": [
       "array([[ 8.16941067, 20.43401104, 30.23006598, 56.94042606,  5.61560514],\n",
       "       [69.02376409, 43.37583581,  9.48919925, 43.2654284 , 73.77830817],\n",
       "       [69.6835031 , 75.59976036, 36.32176245, 95.75459728, 95.37579131],\n",
       "       [79.60018363, 51.93076065, 57.19531638,  2.14713991, 28.283291  ],\n",
       "       [76.24422255, 79.74038019, 57.8566991 , 12.85018483, 25.15143827]])"
      ]
     },
     "execution_count": 18,
     "metadata": {},
     "output_type": "execute_result"
    }
   ],
   "source": [
    "rand2=np.random.uniform(0,100,(5,5))\n",
    "rand2"
   ]
  },
  {
   "cell_type": "code",
   "execution_count": 19,
   "metadata": {},
   "outputs": [],
   "source": [
    "np.random.seed(101)  #  seed used for same random value for each excution\n",
    "rand1=np.random.uniform(0,100,(5,5))\n",
    "rand2=np.random.uniform(0,100,(5,5))\n",
    "#this is input values"
   ]
  },
  {
   "cell_type": "code",
   "execution_count": 20,
   "metadata": {},
   "outputs": [],
   "source": [
    "#create placeholders\n",
    "\n",
    "ph1=tf.placeholder(tf.float32)\n",
    "ph2=tf.placeholder(tf.float32)"
   ]
  },
  {
   "cell_type": "code",
   "execution_count": 21,
   "metadata": {},
   "outputs": [],
   "source": [
    "#set the operation\n",
    "\n",
    "add=ph1+ph2\n",
    "mul=ph1*ph2"
   ]
  },
  {
   "cell_type": "code",
   "execution_count": 22,
   "metadata": {},
   "outputs": [
    {
     "name": "stdout",
     "output_type": "stream",
     "text": [
      "[[151.07166  109.1333    60.726376  90.63407  122.72388 ]\n",
      " [174.70505  111.48864  129.66109  107.87682  114.28157 ]\n",
      " [ 89.78592  121.723175 101.21701  132.37631  188.79526 ]\n",
      " [ 32.950016  18.640892 130.50557  161.94727   43.57991 ]\n",
      " [ 96.08789  119.035904  21.278767  83.92404   67.460266]]\n",
      "\n",
      "\n",
      "[[5134.644    2971.2686    164.80583  1260.3738   3713.9392  ]\n",
      " [7614.759    2480.042    3601.2412   2577.5305   1809.884   ]\n",
      " [1904.5011   3046.2927   1510.212    4227.8057   8906.287   ]\n",
      " [ 225.72342    85.940834 4233.936    6491.534     440.7675  ]\n",
      " [1888.5161   3482.615      79.661606  966.97504   911.71906 ]]\n"
     ]
    }
   ],
   "source": [
    "#create session to execute the operation\n",
    "\n",
    "with tf.Session() as sess:\n",
    "    print(sess.run(add,feed_dict={ph1:rand1,ph2:rand2}))\n",
    "    print(\"\\n\")\n",
    "    print(sess.run(mul,feed_dict={ph1:rand1,ph2:rand2}))"
   ]
  },
  {
   "cell_type": "markdown",
   "metadata": {},
   "source": [
    "## Example neural networks"
   ]
  },
  {
   "cell_type": "code",
   "execution_count": 23,
   "metadata": {},
   "outputs": [],
   "source": [
    "n_features=10\n",
    "n_neurons=5"
   ]
  },
  {
   "cell_type": "markdown",
   "metadata": {},
   "source": [
    "neural networks are\n",
    "\n",
    "x=input\n",
    "w=weight\n",
    "b=bias value\n",
    "\n",
    "z=wx+b"
   ]
  },
  {
   "cell_type": "code",
   "execution_count": 24,
   "metadata": {},
   "outputs": [],
   "source": [
    "x=tf.placeholder(tf.float32,shape=(None,n_features))"
   ]
  },
  {
   "cell_type": "code",
   "execution_count": 25,
   "metadata": {},
   "outputs": [],
   "source": [
    "w=tf.Variable(tf.random_normal([n_features,n_neurons]))"
   ]
  },
  {
   "cell_type": "code",
   "execution_count": 26,
   "metadata": {},
   "outputs": [],
   "source": [
    "b=tf.Variable(tf.zeros([n_neurons]))"
   ]
  },
  {
   "cell_type": "code",
   "execution_count": 27,
   "metadata": {},
   "outputs": [],
   "source": [
    "#perform the network operation"
   ]
  },
  {
   "cell_type": "code",
   "execution_count": 28,
   "metadata": {},
   "outputs": [],
   "source": [
    "wx=tf.matmul(x,w)"
   ]
  },
  {
   "cell_type": "code",
   "execution_count": 29,
   "metadata": {},
   "outputs": [],
   "source": [
    "z=tf.add(wx,b)"
   ]
  },
  {
   "cell_type": "code",
   "execution_count": 30,
   "metadata": {},
   "outputs": [],
   "source": [
    "act=tf.sigmoid(z)  #activation funtion"
   ]
  },
  {
   "cell_type": "code",
   "execution_count": 31,
   "metadata": {},
   "outputs": [],
   "source": [
    "#now we are execute the operation\n",
    "\n",
    "init=tf.global_variables_initializer()"
   ]
  },
  {
   "cell_type": "code",
   "execution_count": 32,
   "metadata": {},
   "outputs": [],
   "source": [
    "with tf.Session() as sess:\n",
    "    sess.run(init)\n",
    "    five_neuron_out= sess.run(act,feed_dict={x:np.random.random([1,n_features])})"
   ]
  },
  {
   "cell_type": "code",
   "execution_count": 33,
   "metadata": {},
   "outputs": [
    {
     "name": "stdout",
     "output_type": "stream",
     "text": [
      "[[0.9126066  0.10836768 0.45112926 0.50096637 0.46980196]]\n"
     ]
    }
   ],
   "source": [
    "print(five_neuron_out)"
   ]
  },
  {
   "cell_type": "markdown",
   "metadata": {},
   "source": [
    "## Full neural networks"
   ]
  },
  {
   "cell_type": "code",
   "execution_count": 34,
   "metadata": {},
   "outputs": [],
   "source": [
    "#full neural network with regression data"
   ]
  },
  {
   "cell_type": "markdown",
   "metadata": {},
   "source": [
    "y=mx+c"
   ]
  },
  {
   "cell_type": "code",
   "execution_count": 38,
   "metadata": {},
   "outputs": [],
   "source": [
    "x_data=np.linspace(0,10,10)+np.random.uniform(-0.5,0.5,10) # feature data"
   ]
  },
  {
   "cell_type": "code",
   "execution_count": 39,
   "metadata": {},
   "outputs": [],
   "source": [
    "y_data=np.linspace(0,10,10)+np.random.uniform(-0.5,0.5,10)  #label data"
   ]
  },
  {
   "cell_type": "code",
   "execution_count": 40,
   "metadata": {},
   "outputs": [],
   "source": [
    "from matplotlib import pyplot as plt\n",
    "%matplotlib inline"
   ]
  },
  {
   "cell_type": "code",
   "execution_count": 41,
   "metadata": {},
   "outputs": [
    {
     "data": {
      "text/plain": [
       "[<matplotlib.lines.Line2D at 0x7ffb8c087320>]"
      ]
     },
     "execution_count": 41,
     "metadata": {},
     "output_type": "execute_result"
    },
    {
     "data": {
      "image/png": "[encoded data removed]",
      "text/plain": [
       "<Figure size 432x288 with 1 Axes>"
      ]
     },
     "metadata": {
      "needs_background": "light"
     },
     "output_type": "display_data"
    }
   ],
   "source": [
    "plt.plot(x_data,y_data,\"*\")"
   ]
  },
  {
   "cell_type": "code",
   "execution_count": 42,
   "metadata": {},
   "outputs": [],
   "source": [
    "#we initialize variable"
   ]
  },
  {
   "cell_type": "markdown",
   "metadata": {},
   "source": [
    "y=mx+c"
   ]
  },
  {
   "cell_type": "code",
   "execution_count": 43,
   "metadata": {},
   "outputs": [],
   "source": [
    "m=tf.Variable(0.5)\n",
    "c=tf.Variable(0.4)"
   ]
  },
  {
   "cell_type": "markdown",
   "metadata": {},
   "source": [
    "## cost function"
   ]
  },
  {
   "cell_type": "code",
   "execution_count": 44,
   "metadata": {},
   "outputs": [],
   "source": [
    "#find the errors\n",
    "error=0\n",
    "\n",
    "for x,y in zip(x_data,y_data):\n",
    "    y_pred=m*x+c\n",
    "    error+=(y-y_pred)**2"
   ]
  },
  {
   "cell_type": "code",
   "execution_count": 45,
   "metadata": {},
   "outputs": [
    {
     "name": "stdout",
     "output_type": "stream",
     "text": [
      "WARNING:tensorflow:From /home/jackdaniel/ve/ml/lib/python3.6/site-packages/tensorflow/python/ops/math_grad.py:1205: add_dispatch_support.<locals>.wrapper (from tensorflow.python.ops.array_ops) is deprecated and will be removed in a future version.\n",
      "Instructions for updating:\n",
      "Use tf.where in 2.0, which has the same broadcast rule as np.where\n"
     ]
    }
   ],
   "source": [
    "#reduce the error by optimizer\n",
    "opt=tf.train.GradientDescentOptimizer(learning_rate=0.001)\n",
    "train=opt.minimize(error)"
   ]
  },
  {
   "cell_type": "code",
   "execution_count": 46,
   "metadata": {},
   "outputs": [],
   "source": [
    "# execute all the operation"
   ]
  },
  {
   "cell_type": "code",
   "execution_count": 47,
   "metadata": {},
   "outputs": [],
   "source": [
    "init=tf.global_variables_initializer()"
   ]
  },
  {
   "cell_type": "code",
   "execution_count": 48,
   "metadata": {},
   "outputs": [],
   "source": [
    "with tf.Session()as sess:\n",
    "    sess.run(init)\n",
    "    \n",
    "    epochs=100\n",
    "    for i in range(epochs):\n",
    "        sess.run(train)\n",
    "    best_m,best_c=sess.run([m,c])"
   ]
  },
  {
   "cell_type": "code",
   "execution_count": 49,
   "metadata": {},
   "outputs": [
    {
     "data": {
      "text/plain": [
       "0.9323711"
      ]
     },
     "execution_count": 49,
     "metadata": {},
     "output_type": "execute_result"
    }
   ],
   "source": [
    "best_m"
   ]
  },
  {
   "cell_type": "code",
   "execution_count": 50,
   "metadata": {},
   "outputs": [
    {
     "data": {
      "text/plain": [
       "0.34350824"
      ]
     },
     "execution_count": 50,
     "metadata": {},
     "output_type": "execute_result"
    }
   ],
   "source": [
    "best_c"
   ]
  },
  {
   "cell_type": "code",
   "execution_count": 51,
   "metadata": {},
   "outputs": [],
   "source": [
    "x_test=np.linspace(-1,11,10)\n",
    "y_pred=best_m*x_test+best_c"
   ]
  },
  {
   "cell_type": "code",
   "execution_count": 52,
   "metadata": {},
   "outputs": [
    {
     "data": {
      "text/plain": [
       "[<matplotlib.lines.Line2D at 0x7ffb61d468d0>]"
      ]
     },
     "execution_count": 52,
     "metadata": {},
     "output_type": "execute_result"
    },
    {
     "data": {
      "image/png": "[encoded data removed]",
      "text/plain": [
       "<Figure size 432x288 with 1 Axes>"
      ]
     },
     "metadata": {
      "needs_background": "light"
     },
     "output_type": "display_data"
    }
   ],
   "source": [
    "plt.plot(x_data,y_data,\"*\")\n",
    "plt.plot(x_test,y_pred,\"red\")"
   ]
  }
 ],
 "metadata": {
  "kernelspec": {
   "display_name": "Python 3",
   "language": "python",
   "name": "python3"
  },
  "language_info": {
   "codemirror_mode": {
    "name": "ipython",
    "version": 3
   },
   "file_extension": ".py",
   "mimetype": "text/x-python",
   "name": "python",
   "nbconvert_exporter": "python",
   "pygments_lexer": "ipython3",
   "version": "3.6.8"
  }
 },
 "nbformat": 4,
 "nbformat_minor": 2
}
